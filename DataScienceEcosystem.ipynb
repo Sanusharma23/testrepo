{
 "cells": [
  {
   "cell_type": "markdown",
   "id": "f53a4359",
   "metadata": {},
   "source": [
    "# Data Science Tools and Ecosystem"
   ]
  },
  {
   "cell_type": "markdown",
   "id": "8b2c10f2",
   "metadata": {},
   "source": [
    "In this notebook, Data Science Tools aand Ecosystem are summerized."
   ]
  },
  {
   "cell_type": "markdown",
   "id": "ffa2cbc0",
   "metadata": {},
   "source": [
    "Some of the popular languages that Data Scientists use are:"
   ]
  },
  {
   "cell_type": "markdown",
   "id": "1397e1cb",
   "metadata": {},
   "source": [
    "ordered list\n",
    "1. Julia\n",
    "2. Python\n",
    "3. R"
   ]
  },
  {
   "cell_type": "markdown",
   "id": "0ae33bad",
   "metadata": {},
   "source": [
    "Some of the commonly used libraries used by Data Scientists include:"
   ]
  },
  {
   "cell_type": "markdown",
   "id": "d3d3f7a0",
   "metadata": {},
   "source": [
    "ordered list\n",
    "1. TensorFlow\n",
    "2. PyTorch\n",
    "3. Pandas\n",
    "4. Matplotlib"
   ]
  },
  {
   "cell_type": "markdown",
   "id": "5ae7e482",
   "metadata": {},
   "source": [
    "# Data Science Tools"
   ]
  },
  {
   "cell_type": "markdown",
   "id": "2cc2d79a",
   "metadata": {},
   "source": [
    "1. Develop\n",
    "2. Implement\n",
    "3. Execute\n",
    "4. Test\n",
    "5. Deploy"
   ]
  },
  {
   "cell_type": "markdown",
   "id": "4f57edef",
   "metadata": {},
   "source": [
    "### Below are a few examples of evaluating arithmatic expressions in Python"
   ]
  },
  {
   "cell_type": "markdown",
   "id": "ed748eba",
   "metadata": {},
   "source": [
    "This a simple arithmetic expression to multiply then add integers"
   ]
  },
  {
   "cell_type": "code",
   "execution_count": 2,
   "id": "777b0bbe",
   "metadata": {},
   "outputs": [
    {
     "data": {
      "text/plain": [
       "17"
      ]
     },
     "execution_count": 2,
     "metadata": {},
     "output_type": "execute_result"
    }
   ],
   "source": [
    "(3*4)+5"
   ]
  },
  {
   "cell_type": "markdown",
   "id": "3601c173",
   "metadata": {},
   "source": [
    "This will convert 200 mintues to hours by dividing by 60"
   ]
  },
  {
   "cell_type": "code",
   "execution_count": 4,
   "id": "8249de33",
   "metadata": {},
   "outputs": [
    {
     "data": {
      "text/plain": [
       "3.3333333333333335"
      ]
     },
     "execution_count": 4,
     "metadata": {},
     "output_type": "execute_result"
    }
   ],
   "source": [
    "200/60"
   ]
  },
  {
   "cell_type": "markdown",
   "id": "617a358e",
   "metadata": {},
   "source": [
    "<b>Objective: In this notebook, Data Science Tools aand Ecosystem are summerized.</b>"
   ]
  },
  {
   "cell_type": "markdown",
   "id": "2f791e24",
   "metadata": {},
   "source": [
    "List popular languages for Data Science"
   ]
  },
  {
   "cell_type": "markdown",
   "id": "f6a64fa5",
   "metadata": {},
   "source": [
    "- Python\n",
    "- R\n",
    "- java\n",
    "- SQL"
   ]
  },
  {
   "cell_type": "markdown",
   "id": "ce796bd7",
   "metadata": {},
   "source": [
    "## Author"
   ]
  },
  {
   "cell_type": "markdown",
   "id": "c3fc319f",
   "metadata": {},
   "source": [
    "Sanu"
   ]
  },
  {
   "cell_type": "code",
   "execution_count": null,
   "id": "088c72e9",
   "metadata": {},
   "outputs": [],
   "source": []
  }
 ],
 "metadata": {
  "kernelspec": {
   "display_name": "Python 3 (ipykernel)",
   "language": "python",
   "name": "python3"
  },
  "language_info": {
   "codemirror_mode": {
    "name": "ipython",
    "version": 3
   },
   "file_extension": ".py",
   "mimetype": "text/x-python",
   "name": "python",
   "nbconvert_exporter": "python",
   "pygments_lexer": "ipython3",
   "version": "3.10.9"
  }
 },
 "nbformat": 4,
 "nbformat_minor": 5
}
